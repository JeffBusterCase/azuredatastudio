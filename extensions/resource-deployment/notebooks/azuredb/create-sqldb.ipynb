{
    "metadata": {
        "kernelspec": {
            "name": "python3",
            "display_name": "Python 3"
        },
        "language_info": {
             "name": "python",
            "version": "3.6.6",
            "mimetype": "text/x-python",
            "codemirror_mode": {
                "name": "ipython",
                "version": 3
            },
            "pygments_lexer": "ipython3",
            "nbconvert_exporter": "python",
            "file_extension": ".py"
        }
    },
    "nbformat_minor": 2,
    "nbformat": 4,
    "cells": [
        {
            "cell_type": "markdown",
            "source": [
                "Create Azure SQL Database\n",
                "==================================\n",
                "\n",
                "Description\n",
                "-----------\n",
                "This notebook will help you get created single Azure SQL Database inside Azure SQL Server and configure a server-level firewall rule. For more information see <a href=https://docs.microsoft.com/en-us/azure/azure-sql/database/scripts/create-and-configure-database-powershell>Use PowerShell to create a single database and configure a server-level firewall rule</a>\n",
                "\n",
                "Steps of this procedure include:\n",
                "\n",
                "1. Connect to Azure subscription\n",
                "2. Provision resource group for SQL Managed Instance\n",
                "3. Create Sql Server\n",
                "4. Provision firewall rules to allow access\n",
                "5. Create Sql Database\n",
                ""
            ],
            "metadata": {
                "azdata_cell_guid": "6af59d69-ade7-480a-b33e-52a86fe5bfd3"
            }
        },
        {
            "cell_type": "markdown",
            "source": [
                "## Notebook Setup "
            ],
            "metadata": {
                "azdata_cell_guid": "19ebf0fd-7010-4cd6-8bcd-d2f63dc75cfb"
            }
        },
        {
            "cell_type": "code",
            "source": [
               "import pandas, sys, os, json, html, getpass, time, tempfile, string, random, subprocess\r\n",
                "\r\n",
                "def run_command(command, json_decode = True):\r\n",
                "    print(command)\r\n",
                "    process = subprocess.Popen(command.split(), stdout=subprocess.PIPE, stderr=subprocess.PIPE, shell=True)\r\n",
                "    output, error = process.communicate()\r\n",
                "    if process.returncode != 0: \r\n",
                "        print(\"Process failed %d \\n%s\" % (process.returncode, error.decode(\"utf-8\")))\r\n",
                "        raise Exception()\r\n",
                "    if output:\r\n",
                "        output = output.decode(\"utf-8\")\r\n",
                "        print(output)\r\n",
                "        try:\r\n",
                "            return json.loads(output)\r\n",
                "        except:\r\n",
                "            return output\r\n",
                "\r\n",
                "def get_random_string(length):\r\n",
                "    letters = string.ascii_lowercase\r\n",
                "    result_str = ''.join(random.choice(letters) for i in range(length))\r\n",
                "    print(\"Random string of length\", length, \"is:\", result_str)\r\n",
                "    return result_str"
            ],
            "metadata": {
                "azdata_cell_guid": "c320ffe2-c488-4bd8-9886-c7deeae02996"
            },
            "outputs": [],
            "execution_count": null
        },
        {
            "cell_type": "markdown",
            "source": [
                "## Set variables"
            ],
            "metadata": {
                "azdata_cell_guid": "b57c46c8-4a34-49af-9b62-aa5688a02002"
            }
        },
        {
            "cell_type": "code",
            "source": [
				"if \"AZDATA_NB_VAR_AZURE_SQLDB_SERVER_PASS\" in os.environ:\r\n",
                "    azure_sqlvm_password = os.environ[\"AZDATA_NB_VAR_AZURE_SQLDB_SERVER_PASS\"]"
            ],
            "metadata": {
                "azdata_cell_guid": "aebaf7a1-bf84-4e4c-815c-ef1d2c79c187"
            },
            "outputs": [],
            "execution_count": null
        },
        {
            "cell_type": "markdown",
            "source": [
                "## Connect to Azure Account"
            ],
            "metadata": {
                "azdata_cell_guid": "e34334a7-0d55-4c18-8c0a-1c4a673629cd"
            }
        },
        {
            "cell_type": "code",
            "source": [
                "run_command('azdata --version', False);"
            ],
            "metadata": {
                "azdata_cell_guid": "96800b54-48a8-463b-886c-3d0e96f29765"
            },
            "outputs": [],
            "execution_count": null
        },
        {
            "cell_type": "markdown",
            "source": [
                "## Set Subscription\r\n",
                "Below command will open a _Dialouge Box_ with list of subscriptions. Selecting one of those will set that subscription for rest of the commands."
            ],
            "metadata": {
                "azdata_cell_guid": "ed6b781d-ce7e-4b51-a7ec-1eeeb2032c73"
            }
        },
        {
            "cell_type": "code",
            "source": [
                 "run_command(\r\n",
                "    'az account set '\r\n",
                "    '--subscription {0}'\r\n",
                "    .format(\r\n",
                "        azure_sqlvm_nb_var_subscription));"
            ],
            "metadata": {
                "azdata_cell_guid": "17b57956-98cf-44de-9ab5-348469ddabf4",
            },
            "outputs": [],
            "execution_count": null
        },
        {
            "cell_type": "markdown",
            "source": [
                "## Create the New Resource Group</b>\r\n",
                "Create new resource group in given subscription."
            ],
            "metadata": {
                "azdata_cell_guid": "3ecc2a29-fb77-4f7f-8901-e9c5c71ce1a2"
            }
        },
        {
            "cell_type": "code",
            "source": [
                "resource_group = run_command('az group exists --name {0}'\r\n",
                ".format(azure_sqldb_nb_var_resource_group_name))\r\n",
				"\r\n",
                "\r\n",
                "\r\n",
                "if (resource_group -eq false):\r\n",
                "    create_resource_group_result = run_command(\r\n",
                "        'az group create '\r\n",
				"        '--location {0} '\r\n",
                "        '--name {1} '\r\n",
				"        .format(\r\n",
                "            azure_sqldb_location, \r\n",
				"            sqldb_resource_nb_var_resource_group_name));"
            ],
            "metadata": {
                "azdata_cell_guid": "4837690a-2204-49ab-8a19-414a8ce782b6"
            },
            "outputs": [],
            "execution_count": null
        },
        {
            "cell_type": "markdown",
            "source": [
                "### <b>Create a SQL server with a system wide unique server name</b>\r\n",
                "_New-AzSqlServer_ will create Sql Server with required configurations."
            ],
            "metadata": {
                "azdata_cell_guid": "2d951526-40dc-49cc-8668-c393eaf58000"
            }
        },
        {
            "cell_type": "code",
            "source": [
                "Write-Output \"Creating SqlServer with name $serverName ....\"\r\n",
                "New-AzSqlServer -ResourceGroupName $resourceGroupName `\r\n",
                "   -ServerName $serverName `\r\n",
                "   -Location $location `\r\n",
                "   -SqlAdministratorCredentials $(New-Object -TypeName System.Management.Automation.PSCredential `\r\n",
                "   -ArgumentList $adminLogin, $(ConvertTo-SecureString -String $password -AsPlainText -Force))"
            ],
            "metadata": {
                "azdata_cell_guid": "c45757ac-6a58-468d-a04c-04504f8a2e0e"
            },
            "outputs": [],
            "execution_count": null
        },
        {
            "cell_type": "markdown",
            "source": [
                "### <b>Create a server firewall rule that allows access from the specified IP range</b>\r\n",
                "_New-AzSqlServerFirewallRule_ creates a new firewall rule for sql server"
            ],
            "metadata": {
                "azdata_cell_guid": "ba895abf-3176-48b5-9e49-a060b3f74370"
            }
        },
        {
            "cell_type": "code",
            "source": [
                "Write-Output \"Configuring firewall for Sql Server...\"\r\n",
                "New-AzSqlServerFirewallRule -ResourceGroupName $resourceGroupName `\r\n",
                "   -ServerName $ServerName `\r\n",
                "   -FirewallRuleName \"AllowedIPs\" -StartIpAddress $startIp -EndIpAddress $endIp"
            ],
            "metadata": {
                "azdata_cell_guid": "ceae5670-292f-4c45-9c10-4ac85baf2d07"
            },
            "outputs": [],
            "execution_count": null
        },
        {
            "cell_type": "markdown",
            "source": [
                "### <b>Create SQL Database</b>\r\n",
                "_New-AzSqlDatabase_ command will create new database in the server."
            ],
            "metadata": {
                "azdata_cell_guid": "b460ca8f-65a7-4d6c-94b7-6d7dd9655fad"
            }
        },
        {
            "cell_type": "code",
            "source": [
                "Write-Output \"Creating a gen5 2 vCore database...\"\r\n",
                "$database = New-AzSqlDatabase  -ResourceGroupName $resourceGroupName `\r\n",
                "   -ServerName $ServerName `\r\n",
                "   -DatabaseName $databaseName `\r\n",
                "   -Edition GeneralPurpose `\r\n",
                "   -VCore 2 `\r\n",
                "   -ComputeGeneration Gen5 `\r\n",
                "   -MinimumCapacity 2"
            ],
            "metadata": {
                "azdata_cell_guid": "dc3b2f6f-83ac-4a4d-9d81-2f534e90913e"
            },
            "outputs": [],
            "execution_count": null
        },
        {
            "cell_type": "markdown",
            "source": [
                "### <b> Get Database details </b>\r\n",
                "_Get-AzSqlDatabase_ command gets database details on the server specified."
            ],
            "metadata": {
                "azdata_cell_guid": "0b35ed4f-1786-4102-a09a-a6a360fd20f2"
            }
        },
        {
            "cell_type": "code",
            "source": [
                "Get-AzSqlDatabase -ResourceGroupName $resourceGroupName -ServerName $serverName -DatabaseName $databaseName"
            ],
            "metadata": {
                "azdata_cell_guid": "5001bf24-5f3f-434e-abf6-a5c21af4aa32"
            },
            "outputs": [],
            "execution_count": null
        }
    ]
}
